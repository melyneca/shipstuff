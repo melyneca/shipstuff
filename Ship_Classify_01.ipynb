{
  "nbformat": 4,
  "nbformat_minor": 0,
  "metadata": {
    "colab": {
      "name": "Ship_Classify_01.ipynb",
      "provenance": [],
      "authorship_tag": "ABX9TyOOei4/fpsMQLU6r2ffHyqA",
      "include_colab_link": true
    },
    "kernelspec": {
      "name": "python3",
      "display_name": "Python 3"
    },
    "language_info": {
      "name": "python"
    }
  },
  "cells": [
    {
      "cell_type": "markdown",
      "metadata": {
        "id": "view-in-github",
        "colab_type": "text"
      },
      "source": [
        "<a href=\"https://colab.research.google.com/github/melyneca/shipstuff/blob/main/Ship_Classify_01.ipynb\" target=\"_parent\"><img src=\"https://colab.research.google.com/assets/colab-badge.svg\" alt=\"Open In Colab\"/></a>"
      ]
    },
    {
      "cell_type": "markdown",
      "source": [
        "Önce uygun kütüphaneler yüklenir\n"
      ],
      "metadata": {
        "id": "ahS4WrT8Ti-n"
      }
    },
    {
      "cell_type": "code",
      "execution_count": null,
      "metadata": {
        "id": "jNhBGwEyuNq6"
      },
      "outputs": [],
      "source": [
        "import torch\n",
        "import torchvision.transforms as transforms\n",
        "import pandas as pd\n",
        "import os\n",
        "from torch.utils.data import Dataset\n",
        "from skimage import io\n",
        "import torchvision\n",
        "import numpy as np\n"
      ]
    },
    {
      "cell_type": "markdown",
      "source": [
        "Zip dosyası açılır ve extractall() ile dosyalar dışarı çıkarılır"
      ],
      "metadata": {
        "id": "kgepNgWuTupb"
      }
    },
    {
      "cell_type": "code",
      "source": [
        "from zipfile import ZipFile\n",
        "  \n",
        "# Zip file directory\n",
        "file_name = \"/content/archive (1).zip\"\n",
        "  \n",
        "# opening the zip file in READ mode\n",
        "with ZipFile(file_name, 'r') as zip:\n",
        "    # extracting all the files\n",
        "    zip.extractall()"
      ],
      "metadata": {
        "id": "NqgKRvjSJDjx"
      },
      "execution_count": null,
      "outputs": []
    },
    {
      "cell_type": "code",
      "source": [
        "class ShipLoad(Dataset):\n",
        "  def __init__(self, csv_file, root_dir, transform=None):\n",
        "    self.annotations = pd.read_csv(csv_file)\n",
        "    self.root_dir = root_dir\n",
        "    self.transform = transform\n",
        "\n",
        "  def __len__(self):\n",
        "    return len(self.annotations)\n",
        "\n",
        "  def __getitem__(self, index):\n",
        "    img_path = os.path.join(self.root_dir, self.annotations.iloc[index, 0])\n",
        "    image = io.imread(img_path)\n",
        "    y_label = torch.tensor(int(self.annotations.iloc[index, 1]))\n",
        "\n",
        "    if self.transform:\n",
        "      image = self.transform(image)\n",
        "\n",
        "    return (image, y_label)"
      ],
      "metadata": {
        "id": "mFQvXhSdMoLP"
      },
      "execution_count": null,
      "outputs": []
    },
    {
      "cell_type": "code",
      "source": [
        "transform= transforms.Compose(\n",
        "        [transforms.ToPILImage(),\n",
        "        transforms.Grayscale(num_output_channels=1),\n",
        "        transforms.Resize((128,128)),\n",
        "        transforms.ToTensor()\n",
        "        ])"
      ],
      "metadata": {
        "id": "SE1LT7gxXtTV"
      },
      "execution_count": null,
      "outputs": []
    },
    {
      "cell_type": "code",
      "source": [
        "train_set = ShipLoad('/content/train/train.csv', root_dir ='/content/train/images', transform = transform)\n",
        "test_set = ShipLoad('/content/train/train.csv', root_dir ='/content/train/images', transform = transform)"
      ],
      "metadata": {
        "id": "FfvpcB16Q6gK"
      },
      "execution_count": null,
      "outputs": []
    },
    {
      "cell_type": "code",
      "source": [
        "from torch.utils.data import DataLoader"
      ],
      "metadata": {
        "id": "ufyA3bWlReQk"
      },
      "execution_count": null,
      "outputs": []
    },
    {
      "cell_type": "markdown",
      "source": [
        ""
      ],
      "metadata": {
        "id": "wOkum2DSHk6z"
      }
    },
    {
      "cell_type": "markdown",
      "source": [
        "DataLoadder kullanılarak resimler batchler halinde yüklenir\n"
      ],
      "metadata": {
        "id": "Y2jT_JuDUGTl"
      }
    },
    {
      "cell_type": "code",
      "source": [
        "train_data = DataLoader(dataset = train_set, batch_size= 8, shuffle= True)\n",
        "test_data = DataLoader(dataset = test_set, batch_size= 8)"
      ],
      "metadata": {
        "id": "GTGkEmW9RxYm"
      },
      "execution_count": null,
      "outputs": []
    },
    {
      "cell_type": "code",
      "source": [
        "classes = ['Cargo','Military','Carrier','Cruise','Tankers']"
      ],
      "metadata": {
        "id": "mhGotFtjYLQW"
      },
      "execution_count": null,
      "outputs": []
    },
    {
      "cell_type": "code",
      "source": [
        "\n"
      ],
      "metadata": {
        "id": "2Xhqv3Trel0R"
      },
      "execution_count": null,
      "outputs": []
    },
    {
      "cell_type": "code",
      "source": [
        "import matplotlib.pyplot as plt\n",
        "import numpy as np\n",
        "\n",
        "\n",
        "def imshow(img): \n",
        "  npimg = img.numpy()\n",
        "  plt.imshow(np.transpose(npimg, (1, 2, 0)))\n",
        "  plt.show()\n",
        "\n",
        "\n",
        "dataiter = iter(train_data)\n",
        "images, labels = dataiter.next() \n",
        "imshow(torchvision.utils.make_grid(images))\n"
      ],
      "metadata": {
        "colab": {
          "base_uri": "https://localhost:8080/",
          "height": 94
        },
        "id": "8GmQooMagXD2",
        "outputId": "db55ace4-3250-496c-bc4e-705e961976ba"
      },
      "execution_count": null,
      "outputs": [
        {
          "output_type": "display_data",
          "data": {
            "text/plain": [
              "<Figure size 432x288 with 1 Axes>"
            ],
            "image/png": "[encoded data removed]"
          },
          "metadata": {
            "needs_background": "light"
          }
        }
      ]
    },
    {
      "cell_type": "code",
      "source": [
        ""
      ],
      "metadata": {
        "id": "guf-jEBoqLMD"
      },
      "execution_count": null,
      "outputs": []
    }
  ]
}